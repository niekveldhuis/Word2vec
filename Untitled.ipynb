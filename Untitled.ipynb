{
 "cells": [
  {
   "cell_type": "code",
   "execution_count": 1,
   "metadata": {
    "collapsed": true
   },
   "outputs": [],
   "source": [
    "import glob\n",
    "import pandas as pd\n",
    "import numpy as np\n",
    "from sklearn.feature_extraction.text import CountVectorizer"
   ]
  },
  {
   "cell_type": "code",
   "execution_count": 70,
   "metadata": {
    "collapsed": true
   },
   "outputs": [],
   "source": [
    "path =r'output' # indicate the local path where files are stored\n",
    "allFiles = glob.glob(path + \"/*.csv\")\n",
    "list_ = []\n",
    "files_ = []\n",
    "for file_ in allFiles:\n",
    "    df = pd.read_csv(file_,index_col=None, header=0)\n",
    "    df['id_text'] = [file_[7:-4].replace('_', '/') + '/' + text for text in df['id_text']]\n",
    "    df['lemma'] = [lemma.replace('$', '') for lemma in df['lemma']]\n",
    "    list_.append(df)\n",
    "    files_.append(file_[7:-4].replace('_', '/'))\n",
    "data = pd.concat(list_).reset_index(drop=True)"
   ]
  },
  {
   "cell_type": "code",
   "execution_count": 34,
   "metadata": {
    "collapsed": true
   },
   "outputs": [],
   "source": [
    "cv = CountVectorizer(analyzer='word', token_pattern=r'[^ ]+')\n",
    "fit = cv.fit_transform(data['lemma'])\n",
    "dtm = pd.DataFrame(fit.toarray(), columns = cv.get_feature_names(), index = data['id_text'])"
   ]
  },
  {
   "cell_type": "code",
   "execution_count": 59,
   "metadata": {
    "collapsed": false
   },
   "outputs": [
    {
     "data": {
      "text/plain": [
       "immeru[sheep]n        364\n",
       "puhādu[lamb]n          31\n",
       "arhu[cow]n             16\n",
       "būru[(bull)-calf]n     11\n",
       "dtype: int64"
      ]
     },
     "execution_count": 59,
     "metadata": {},
     "output_type": "execute_result"
    }
   ],
   "source": [
    "words = ['immeru[sheep]n', 'puhādu[lamb]n', 'arhu[cow]n', 'būru[(bull)-calf]n']\n",
    "dtm[words].sum()"
   ]
  },
  {
   "cell_type": "code",
   "execution_count": 67,
   "metadata": {
    "collapsed": false
   },
   "outputs": [
    {
     "data": {
      "text/plain": [
       "x[na]na                          169768\n",
       "ina[in]prp                        25361\n",
       "ana[to]prp                        24677\n",
       "ša[of]det                         23986\n",
       "šarru[king]n                      18520\n",
       "u[and]cnj                         16680\n",
       "māru[son]n                        16152\n",
       "bēlu[lord]n                       12872\n",
       "ša[that]rel                       10950\n",
       "ūmu[day]n                          7884\n",
       "lā[not]mod                         6798\n",
       "bītu[house]n                       6445\n",
       "mātu[land]n                        5706\n",
       "x+x[na]na                          5197\n",
       "libbu[interior]n                   4993\n",
       "ilu[god]n                          4228\n",
       "šību[witness]n                     4035\n",
       "alāku[go]v                         3863\n",
       "pānu[front]n                       3578\n",
       "muhhu[skull]n                      3560\n",
       "unqu[ring]n                        3512\n",
       "epēšu[do]v                         3361\n",
       "ištu[from]prp                      3245\n",
       "šuāti[him]ip                       3181\n",
       "lū[may]mod                         3143\n",
       "*[na]na                            2859\n",
       "šakānu[put]v                       2855\n",
       "qabû[say]v                         2769\n",
       "adi[until]prp                      2692\n",
       "mā[saying]prp                      2618\n",
       "                                  ...  \n",
       "kušû[crab]n                           1\n",
       "kušāru[reed-stalk]n                   1\n",
       "x-qi-su[na]na                         1\n",
       "kuššudu[chased-(off)-one]n            1\n",
       "kuš₃-meš-šu₂[na]na                    1\n",
       "kuʾintu[(meaning-unknown)]n           1\n",
       "kuṣimtu[(a-medicinal-plant)]n         1\n",
       "kuṣurtain[1]sn                        1\n",
       "kuṣuršu[00]pn                         1\n",
       "kuṣṣu[flayed]aj                       1\n",
       "kuš-šu[na]na                          1\n",
       "kuāti[(of-to)-you]ip                  1\n",
       "x-ra-an-nu[na]na                      1\n",
       "kuzāzu[wood-wasp]n                    1\n",
       "kutayu[1]pn                           1\n",
       "x-ra-an-ni[na]na                      1\n",
       "x-ra-am[na]na                         1\n",
       "kuteʾaya[1]en                         1\n",
       "kutha[1]sn                            1\n",
       "x-ra-a[na]na                          1\n",
       "x-ra-a-x[na]na                        1\n",
       "kuttia[1]pn                           1\n",
       "x-ra-a-nu[na]na                       1\n",
       "x-ra-a-nu-u[na]na                     1\n",
       "kuyaka[1]pn                           1\n",
       "kuza[1]pn                             1\n",
       "x-ra-a-bad-te[na]na                   1\n",
       "kuzubtu[flattery]n                    1\n",
       "kuzurtein[1]sn                        1\n",
       "‌umman-manda[1]en                     1\n",
       "dtype: int64"
      ]
     },
     "execution_count": 67,
     "metadata": {},
     "output_type": "execute_result"
    }
   ],
   "source": [
    "dtm.sum().sort_values(ascending=False)"
   ]
  },
  {
   "cell_type": "code",
   "execution_count": null,
   "metadata": {
    "collapsed": true
   },
   "outputs": [],
   "source": []
  }
 ],
 "metadata": {
  "anaconda-cloud": {},
  "kernelspec": {
   "display_name": "Python [conda root]",
   "language": "python",
   "name": "conda-root-py"
  },
  "language_info": {
   "codemirror_mode": {
    "name": "ipython",
    "version": 3
   },
   "file_extension": ".py",
   "mimetype": "text/x-python",
   "name": "python",
   "nbconvert_exporter": "python",
   "pygments_lexer": "ipython3",
   "version": "3.5.2"
  }
 },
 "nbformat": 4,
 "nbformat_minor": 2
}
